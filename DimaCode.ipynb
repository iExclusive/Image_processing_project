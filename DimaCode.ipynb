{
 "cells": [
  {
   "cell_type": "code",
   "execution_count": 2,
   "id": "4738b2fa",
   "metadata": {},
   "outputs": [
    {
     "ename": "error",
     "evalue": "OpenCV(4.8.0) D:\\a\\opencv-python\\opencv-python\\opencv\\modules\\imgproc\\src\\filter.dispatch.cpp:1530: error: (-215:Assertion failed) !_src.empty() in function 'cv::filter2D'\n",
     "output_type": "error",
     "traceback": [
      "\u001b[1;31m---------------------------------------------------------------------------\u001b[0m",
      "\u001b[1;31merror\u001b[0m                                     Traceback (most recent call last)",
      "Input \u001b[1;32mIn [2]\u001b[0m, in \u001b[0;36m<cell line: 39>\u001b[1;34m()\u001b[0m\n\u001b[0;32m     36\u001b[0m     \u001b[38;5;28;01mreturn\u001b[39;00m contrast_enhanced\n\u001b[0;32m     38\u001b[0m \u001b[38;5;66;03m# Apply the restoration functions to the image\u001b[39;00m\n\u001b[1;32m---> 39\u001b[0m deconvolved \u001b[38;5;241m=\u001b[39m \u001b[43mdeconvolution\u001b[49m\u001b[43m(\u001b[49m\u001b[43moriginal_image\u001b[49m\u001b[43m)\u001b[49m\n\u001b[0;32m     40\u001b[0m sharpened \u001b[38;5;241m=\u001b[39m unsharp_masking(deconvolved)\n\u001b[0;32m     41\u001b[0m final_image \u001b[38;5;241m=\u001b[39m adjust_contrast(sharpened)\n",
      "Input \u001b[1;32mIn [2]\u001b[0m, in \u001b[0;36mdeconvolution\u001b[1;34m(image, kernel_size)\u001b[0m\n\u001b[0;32m     14\u001b[0m kernel_motion_blur \u001b[38;5;241m=\u001b[39m kernel_motion_blur \u001b[38;5;241m/\u001b[39m kernel_size[\u001b[38;5;241m1\u001b[39m]\n\u001b[0;32m     16\u001b[0m \u001b[38;5;66;03m# Apply deconvolution using Wiener filter\u001b[39;00m\n\u001b[1;32m---> 17\u001b[0m deconvolved_image \u001b[38;5;241m=\u001b[39m \u001b[43mcv2\u001b[49m\u001b[38;5;241;43m.\u001b[39;49m\u001b[43mfilter2D\u001b[49m\u001b[43m(\u001b[49m\u001b[43mimage\u001b[49m\u001b[43m,\u001b[49m\u001b[43m \u001b[49m\u001b[38;5;241;43m-\u001b[39;49m\u001b[38;5;241;43m1\u001b[39;49m\u001b[43m,\u001b[49m\u001b[43m \u001b[49m\u001b[43mkernel_motion_blur\u001b[49m\u001b[43m)\u001b[49m\n\u001b[0;32m     18\u001b[0m \u001b[38;5;28;01mreturn\u001b[39;00m deconvolved_image\n",
      "\u001b[1;31merror\u001b[0m: OpenCV(4.8.0) D:\\a\\opencv-python\\opencv-python\\opencv\\modules\\imgproc\\src\\filter.dispatch.cpp:1530: error: (-215:Assertion failed) !_src.empty() in function 'cv::filter2D'\n"
     ]
    }
   ],
   "source": [
    "import cv2\n",
    "import numpy as np\n",
    "import matplotlib.pyplot as plt\n",
    "\n",
    "# Load the image from the file system\n",
    "image_path = 'C:\\Users\\dcojo\\OneDrive - Technological University Dublin\\Desktop\\4th year\\ImageProcessing\\Project\\sometext.png'\n",
    "original_image = cv2.imread(image_path, cv2.IMREAD_GRAYSCALE)\n",
    "\n",
    "# Function to apply deconvolution with a given kernel size\n",
    "def deconvolution(image, kernel_size=(5, 5)):\n",
    "    # Create a motion blur kernel\n",
    "    kernel_motion_blur = np.zeros(kernel_size)\n",
    "    kernel_motion_blur[int((kernel_size[0] - 1) / 2), :] = np.ones(kernel_size[1])\n",
    "    kernel_motion_blur = kernel_motion_blur / kernel_size[1]\n",
    "    \n",
    "    # Apply deconvolution using Wiener filter\n",
    "    deconvolved_image = cv2.filter2D(image, -1, kernel_motion_blur)\n",
    "    return deconvolved_image\n",
    "\n",
    "# Function to apply unsharp masking for edge enhancement\n",
    "def unsharp_masking(image, strength=1.5, kernel_size=(5, 5)):\n",
    "    # Create a Gaussian blur of the image\n",
    "    gaussian_blurred = cv2.GaussianBlur(image, kernel_size, 0)\n",
    "    \n",
    "    # Enhance edges by subtracting the blurred image from the original\n",
    "    sharpened = cv2.addWeighted(image, 1.0 + strength, gaussian_blurred, -strength, 0)\n",
    "    return sharpened\n",
    "\n",
    "# Function to adjust contrast of the image\n",
    "def adjust_contrast(image, clip_limit=2.0, tile_grid_size=(8, 8)):\n",
    "    # Create a CLAHE object\n",
    "    clahe = cv2.createCLAHE(clipLimit=clip_limit, tileGridSize=tile_grid_size)\n",
    "    \n",
    "    # Apply CLAHE to the image\n",
    "    contrast_enhanced = clahe.apply(image)\n",
    "    return contrast_enhanced\n",
    "\n",
    "# Apply the restoration functions to the image\n",
    "deconvolved = deconvolution(original_image)\n",
    "sharpened = unsharp_masking(deconvolved)\n",
    "final_image = adjust_contrast(sharpened)\n",
    "\n",
    "# Display the original and processed images\n",
    "fig, axs = plt.subplots(1, 3, figsize=(20, 10))\n",
    "\n",
    "axs[0].imshow(original_image, cmap='gray')\n",
    "axs[0].set_title('Original Image')\n",
    "axs[0].axis('off')\n",
    "\n",
    "axs[1].imshow(deconvolved, cmap='gray')\n",
    "axs[1].set_title('After Deconvolution')\n",
    "axs[1].axis('off')\n",
    "\n",
    "axs[2].imshow(final_image, cmap='gray')\n",
    "axs[2].set_title('After Unsharp Masking and Contrast Adjustment')\n",
    "axs[2].axis('off')\n",
    "\n",
    "plt.show()\n",
    "\n",
    "# Save the final restored image to the file system\n",
    "output_image_path = 'C:\\Users\\dcojo\\OneDrive - Technological University Dublin\\Desktop\\4th year\\ImageProcessing\\Project\\restored.png'\n",
    "\n",
    "cv2.imwrite(output_image_path, final_image)\n",
    "output_image_path\n"
   ]
  },
  {
   "cell_type": "code",
   "execution_count": null,
   "id": "478ed874",
   "metadata": {},
   "outputs": [],
   "source": [
    "\n"
   ]
  },
  {
   "cell_type": "code",
   "execution_count": null,
   "id": "c704191b",
   "metadata": {},
   "outputs": [],
   "source": []
  },
  {
   "cell_type": "code",
   "execution_count": null,
   "id": "66e94819",
   "metadata": {},
   "outputs": [],
   "source": []
  },
  {
   "cell_type": "code",
   "execution_count": null,
   "id": "946ed7a1",
   "metadata": {},
   "outputs": [],
   "source": []
  },
  {
   "cell_type": "code",
   "execution_count": null,
   "id": "e0c57626",
   "metadata": {},
   "outputs": [],
   "source": []
  }
 ],
 "metadata": {
  "kernelspec": {
   "display_name": "Python 3 (ipykernel)",
   "language": "python",
   "name": "python3"
  },
  "language_info": {
   "codemirror_mode": {
    "name": "ipython",
    "version": 3
   },
   "file_extension": ".py",
   "mimetype": "text/x-python",
   "name": "python",
   "nbconvert_exporter": "python",
   "pygments_lexer": "ipython3",
   "version": "3.9.12"
  }
 },
 "nbformat": 4,
 "nbformat_minor": 5
}
